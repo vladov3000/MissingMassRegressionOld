{
 "cells": [
  {
   "cell_type": "code",
   "execution_count": 186,
   "metadata": {},
   "outputs": [],
   "source": [
    "import pandas as pd\n",
    "from tqdm.notebook import tqdm\n",
    "from sklearn import preprocessing\n",
    "\n",
    "import torch\n",
    "from torch import nn\n",
    "from torch import optim\n",
    "from torch.utils.data import DataLoader"
   ]
  },
  {
   "cell_type": "code",
   "execution_count": 209,
   "metadata": {},
   "outputs": [],
   "source": [
    "class WLNuDataset(torch.utils.data.Dataset):\n",
    "     def __init__(self, df_path=\"../data/gen.csv\"):\n",
    "        df = pd.read_csv(df_path)\n",
    "        df = df.drop(labels=[\"L_E\", \"Nu_E\"], axis=1)\n",
    "        \n",
    "        # standardize input columns\n",
    "        x = df.loc[:, df.columns != \"Nu_pz\"].to_numpy()\n",
    "        scaler = preprocessing.StandardScaler().fit(x)\n",
    "        x = scaler.transform(x)\n",
    "        df[df.columns[:-1]] = x\n",
    "        \n",
    "        self.data = torch.from_numpy(df.values).float()\n",
    " \n",
    "     def __getitem__(self, idx):\n",
    "         return self.data[idx]\n",
    " \n",
    "     def __len__(self):\n",
    "         return len(self.data)"
   ]
  },
  {
   "cell_type": "code",
   "execution_count": 241,
   "metadata": {},
   "outputs": [],
   "source": [
    "class WLNuModel(nn.Module):\n",
    "    def __init__(self, n_features):\n",
    "        super().__init__()\n",
    "        self.n_features = n_features\n",
    "        self.model = nn.Sequential(\n",
    "            nn.Linear(n_features, 128),\n",
    "            nn.ReLU(),\n",
    "            nn.Linear(128, 128),\n",
    "            nn.ReLU(),\n",
    "            nn.Linear(128, 128),\n",
    "            nn.ReLU(),\n",
    "            nn.Linear(128, 128),\n",
    "            nn.ReLU(),\n",
    "            nn.Linear(128, 1),\n",
    "            nn.ReLU()\n",
    "        )\n",
    "    \n",
    "    def forward(self, x):\n",
    "        return self.model(x)"
   ]
  },
  {
   "cell_type": "code",
   "execution_count": null,
   "metadata": {},
   "outputs": [],
   "source": [
    "def evaluate(model, loader, loss_fn):\n",
    "    \n",
    "    n_features = model.n_features\n",
    "    \n",
    "    model.eval()\n",
    "    \n",
    "    total_loss = 0\n",
    "    \n",
    "    for batch in loader:\n",
    "        X = batch[:, :n_features]\n",
    "        Y = batch[:, n_features:]\n",
    "\n",
    "        out = model(X)\n",
    "        loss = loss_fn(out, Y)\n",
    "        total_loss += loss.item()\n",
    "    \n",
    "    model.train()\n",
    "    \n",
    "    return total_loss / len(loader)"
   ]
  },
  {
   "cell_type": "code",
   "execution_count": null,
   "metadata": {},
   "outputs": [],
   "source": [
    "def train(data_split = [0.9, 0.05, 0.05], batch_size=8192, n_epochs=100, learning_rate=1e-3):\n",
    "    dataset = WLNuDataset()\n",
    "    n_features = len(dataset[0]) - 1 # last two columns are targets: N_z\n",
    "    \n",
    "    print(f\"# of input features: {n_features}\")\n",
    "    print(f\"Total number of samples: {len(dataset)}\")\n",
    "    \n",
    "    data_split = [int(i * len(dataset)) for i in data_split]\n",
    "    train_set, val_set, test_set = torch.utils.data.random_split(dataset, lengths=data_split)\n",
    "    \n",
    "    print(f\"Train set samples: {len(train_set)}\")\n",
    "    print(f\"Val set samples: {len(val_set)}\")\n",
    "    print(f\"Test set samples: {len(test_set)}\")\n",
    "    \n",
    "    train_loader, val_loader, test_loader = [DataLoader(i, batch_size=batch_size, shuffle=True) \n",
    "                                             for i in (train_set, val_set, test_set)]\n",
    "    \n",
    "    model = WLNuModel(n_features)\n",
    "    loss_fn = torch.nn.MSELoss()\n",
    "    optimizer = optim.Adam(model.parameters(), lr=learning_rate)\n",
    "    \n",
    "    print(f\"\\n{'='*30}\\n\")\n",
    "    for epoch in range(n_epochs):\n",
    "        \n",
    "        print(f\"Epoch {epoch}\")\n",
    "        \n",
    "        train_loss = 0\n",
    "        \n",
    "        for train_batch in train_loader:\n",
    "            X = train_batch[:, :n_features]\n",
    "            Y = train_batch[:, n_features:]\n",
    "            \n",
    "            out = model(X)\n",
    "            loss = loss_fn(out, Y)\n",
    "            train_loss += loss.item()\n",
    "            \n",
    "            optimizer.zero_grad() # clear previous gradients\n",
    "            loss.backward() # compute gradients\n",
    "            \n",
    "            optimizer.step() # update weights using computed gradients\n",
    "\n",
    "        train_loss = train_loss / len(train_loader)\n",
    "        print(f\"Train loss: {train_loss}\")\n",
    "        \n",
    "        val_loss = evaluate(model, val_loader, loss_fn)\n",
    "        print(f\"Val loss: {val_loss}\")\n",
    "        \n",
    "        print(f\"\\n{'='*30}\\n\")"
   ]
  },
  {
   "cell_type": "code",
   "execution_count": null,
   "metadata": {},
   "outputs": [],
   "source": [
    "train()"
   ]
  },
  {
   "cell_type": "code",
   "execution_count": null,
   "metadata": {},
   "outputs": [],
   "source": []
  }
 ],
 "metadata": {
  "kernelspec": {
   "display_name": "Python 3",
   "language": "python",
   "name": "python3"
  },
  "language_info": {
   "codemirror_mode": {
    "name": "ipython",
    "version": 3
   },
   "file_extension": ".py",
   "mimetype": "text/x-python",
   "name": "python",
   "nbconvert_exporter": "python",
   "pygments_lexer": "ipython3",
   "version": "3.8.5"
  }
 },
 "nbformat": 4,
 "nbformat_minor": 4
}
