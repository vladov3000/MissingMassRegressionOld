{
 "cells": [
  {
   "cell_type": "code",
   "execution_count": 17,
   "metadata": {},
   "outputs": [],
   "source": [
    "import pandas"
   ]
  },
  {
   "cell_type": "code",
   "execution_count": 32,
   "metadata": {},
   "outputs": [],
   "source": [
    "def load_events(events_file=\"../data/wlnu.dat\"):\n",
    "    lines = []\n",
    "    with open(\"../data/wlnu.dat\") as f:\n",
    "        lines = f.readlines()\n",
    "        \n",
    "    res = pandas.DataFrame()\n",
    "    for i in range(0, len(lines), 10):\n",
    "        event_n_line = lines[i].split()\n",
    "        assert(event_n_line, \"EVENT\")\n",
    "    \n",
    "    return res"
   ]
  },
  {
   "cell_type": "code",
   "execution_count": 33,
   "metadata": {},
   "outputs": [
    {
     "name": "stdout",
     "output_type": "stream",
     "text": [
      "EVENT 0\n",
      "\n",
      "EVENT 1\n",
      "\n",
      "EVENT 2\n",
      "\n",
      "EVENT 3\n",
      "\n",
      "EVENT 4\n",
      "\n",
      "EVENT 5\n",
      "\n",
      "EVENT 6\n",
      "\n",
      "EVENT 7\n",
      "\n",
      "EVENT 8\n",
      "\n",
      "EVENT 9\n",
      "\n"
     ]
    }
   ],
   "source": [
    "a = load_events()"
   ]
  },
  {
   "cell_type": "code",
   "execution_count": null,
   "metadata": {},
   "outputs": [],
   "source": []
  }
 ],
 "metadata": {
  "kernelspec": {
   "display_name": "Python 3",
   "language": "python",
   "name": "python3"
  },
  "language_info": {
   "codemirror_mode": {
    "name": "ipython",
    "version": 3
   },
   "file_extension": ".py",
   "mimetype": "text/x-python",
   "name": "python",
   "nbconvert_exporter": "python",
   "pygments_lexer": "ipython3",
   "version": "3.8.5"
  }
 },
 "nbformat": 4,
 "nbformat_minor": 4
}
